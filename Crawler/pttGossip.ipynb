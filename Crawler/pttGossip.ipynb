{
 "cells": [
  {
   "cell_type": "markdown",
   "metadata": {},
   "source": [
    "# 先寫一個簡單版的ptt爬蟲"
   ]
  },
  {
   "cell_type": "code",
   "execution_count": 6,
   "metadata": {},
   "outputs": [
    {
     "name": "stderr",
     "output_type": "stream",
     "text": [
      "c:\\users\\udic\\documents\\htdocs\\publictutorial\\venv\\lib\\site-packages\\bs4\\__init__.py:181: UserWarning: No parser was explicitly specified, so I'm using the best available HTML parser for this system (\"html5lib\"). This usually isn't a problem, but if you run this code on another system, or in a different virtual environment, it may use a different parser and behave differently.\n",
      "\n",
      "The code that caused this warning is on line 184 of the file c:\\users\\udic\\appdata\\local\\programs\\python\\python35\\Lib\\runpy.py. To get rid of this warning, change code that looks like this:\n",
      "\n",
      " BeautifulSoup(YOUR_MARKUP})\n",
      "\n",
      "to this:\n",
      "\n",
      " BeautifulSoup(YOUR_MARKUP, \"html5lib\")\n",
      "\n",
      "  markup_type=markup_type))\n"
     ]
    },
    {
     "name": "stdout",
     "output_type": "stream",
     "text": [
      "[參選] Kay731\n",
      "[參選] reinforce15 \n",
      "[問卦] 為什麼不直接規定店家用可分解塑膠袋？\n",
      "Re: 如何面對19歲弟弟突然猝逝\n",
      "[新聞] 綠委爆料 蔡總統優先徵詢陳菊任閣揆\n",
      "[ＦＢ] 苗博雅:警察開9槍擊斃逃逸外勞\n",
      "[新聞] 對川普很失望？ 普廷：他又不是我的新娘\n",
      "[問卦] 台灣自己研發氫彈嗎？\n",
      "Re: [ＦＢ] 苗博雅FB:中華民國的憲政體制爛到爆炸\n",
      "[問卦] 日本人學台灣中油玩停電？\n",
      "[問卦] 我明天要幾點起來\n",
      "[問卦] 台灣人懶叫小是不是蚵仔太小顆害的？☺\n",
      "[問卦] 日本男演員的顏值發生了什麼事？\n",
      "[問卦] 有沒有娘娘腔的金牌殺手？\n",
      "Re: [問卦] 用什麼形容詞會讓人感覺到有年紀了\n",
      "[新聞] 普渡完好兄弟　換真人飛撲搶水果\n",
      "Re: [新聞] 林奕含案件再議 陳國星維持不起訴處分\n",
      "[問卦] 返校一出來遇到一隻狼 要怎麼空手打?\n",
      "[問卦] 有調查局的國家\n",
      "[ＦＢ] 劉宇fb 來酒店\n"
     ]
    }
   ],
   "source": [
    "import requests, json\n",
    "from bs4 import BeautifulSoup\n",
    "\n",
    "data = []\n",
    "for page in range(25293, 25294):\n",
    "    res = requests.get('https://www.ptt.cc/bbs/Gossiping/index{}.html'.format(page), cookies={'over18': '1'})\n",
    "    soup = BeautifulSoup(res.text)\n",
    "    \n",
    "    for j in soup.select('.title a'):\n",
    "        res = requests.get('https://www.ptt.cc' + j['href'], cookies={'over18': '1'})\n",
    "        soup = BeautifulSoup(res.text)\n",
    "        print(j.text)\n",
    "        data.append({'title':j.text, 'url':'https://www.ptt.cc' + j['href'], 'text':soup.select('#main-content')[0].text})\n",
    "\n",
    "json.dump(data, open('ptt.json', 'w'))"
   ]
  },
  {
   "cell_type": "markdown",
   "metadata": {},
   "source": [
    "## 困難版"
   ]
  },
  {
   "cell_type": "code",
   "execution_count": 13,
   "metadata": {},
   "outputs": [
    {
     "name": "stderr",
     "output_type": "stream",
     "text": [
      "c:\\users\\udic\\documents\\htdocs\\publictutorial\\venv\\lib\\site-packages\\bs4\\__init__.py:181: UserWarning: No parser was explicitly specified, so I'm using the best available HTML parser for this system (\"html5lib\"). This usually isn't a problem, but if you run this code on another system, or in a different virtual environment, it may use a different parser and behave differently.\n",
      "\n",
      "The code that caused this warning is on line 184 of the file c:\\users\\udic\\appdata\\local\\programs\\python\\python35\\Lib\\runpy.py. To get rid of this warning, change code that looks like this:\n",
      "\n",
      " BeautifulSoup(YOUR_MARKUP})\n",
      "\n",
      "to this:\n",
      "\n",
      " BeautifulSoup(YOUR_MARKUP, \"html5lib\")\n",
      "\n",
      "  markup_type=markup_type))\n"
     ]
    },
    {
     "name": "stdout",
     "output_type": "stream",
     "text": [
      "['投你了', '推K少', 'YA', '過氣k少又來了', '都沒錢錢發惹', '現在連文摘都沒有 未看先猜精華區也不妙', '不會刪動漫文 戰女文我就投你 嘻嘻', '投你一票。雖然你水桶過我。至少回我文。讓我知道原因', 'K少是少數做的很好了吧 投你了', '老江湖了', '打電話專家', '就決定投你了!                     我來當砲灰的...', '有些版主水桶人，是不知道原因。至少你願意回我文。', '有被你照顧過 我會投你', '讚', 'k可以', 'K少 為什麼要跟Carol0217分手 可以說一下原因嗎', '老屁股保險點 不然又選到怪怪的', 'K少是八卦版唯一會求證爆卦內容的版主。', '發錢喇', '一堆XX在這邊亂 不找清流來整治要找誰?', '死魚我不行', 'ID幫推~', '看過你出來選好幾次了，方方土，還是讓給年輕人吧', 'K少都出來了 沒你的事了', '收費厚塑膠袋的製造工廠受環保署稽查控管，廢掉此制', '推', '好', '可以', '基督教', '謝謝你，我現在腦中真的一片空白，只能用發文的方式紀念他', '質詢到一半睡著嗎?', '宮廷戲?', '別鬧了 派遣之母', '民進黨沒人才，選來選去，不是豬就是瓜', '1陳菊沒有選總統的企圖，對空心菜沒有威脅以權謀的觀', '真他媽噁心', '對總統不滿就實際行動發起罷免 嘴也沒用 還是爽爽任期當', '他有律師牌?  不是只是法律系畢業而已嗎', '先推再看', '現在真的來到多元成家的年代了', '反觀謝龍介', '哈哈哈 小川暴怒', '甲味濃...', '甲上', '普丁攻', '阿謀咧，大家都有，你怎麼可以沒有', '你不用上班哦 真好', '一樓帥哥', '2樓沒懶覺 問他沒用', '同感欸 ..', '五樓真的醜', '土屋太鳳很可愛', '日本的審美跟其他國家不一樣', '我還有點餓', '我不是娘娘腔 我是金牌殺手', '5f娘娘腔包莖殺手', '周大福', '周大福啊', '肩膀有菜花的給我進來', ' 公三小', '西瓜蛇', '人比鬼兇', '人家74你敢嘴？', '不能檢討被害人阿.......... 結果現在是兩情相悅 糗了', '林父母林的電腦日記都不給檢方，真的很莫名', '我就是要罵林父母根本垃圾 有夠鬧劇一場', '彆氣、放腳尾飯', '我返校一出來遇到一條河紅紅的只好再回去 發現男同學死掉了', '不要背對牠', '你不久後會碰到一個輪椅老頭 先把他給殺了', 'CIA是中央情報局吧', '007那個叫啥', '三個長好像', '我不行', '到底是甲甲長很像還是胖子長很像 四叉跟右邊那個是雙胞胎', '胖子好像都長得一樣(??', '最右邊的是拓也哥嗎???']\n",
      "['你不是已經是板主了嗎？', '幹', '為什麼都是這些老人一直想回鍋啊zzzzzzzzzzz', '怎麼選就這幾個再輪', '你出來幹嘛....我要ILoveElsa拉', '大義滅親桶親人可以ㄇ', '永遠都是這些老屁股。在輪流當板主', '不準當版主，要有時間陪我～', '老司機', '你沒說你是我小弟', '關鍵字之亂最好玩 處理三小', '想當當看勒~~滾啦', '前提是他要真的有弟弟', '完全不想看', '我覺得你比較可憐還要來討拍拍', '操,那不是擊斃外勞,是擊斃一個攻擊義警員警想搶車的罪犯', '又在資格論 沒當過總統也別嘴總統了好不?', '推四樓', '就是有這種垃圾 難怪台灣警察都不敢開槍', '社會亂源', '這種人沒救了啦 只看身分 沒有是非', '外勞菲菲為了心臟病女兒就可以搶劫殺老闆肛交老闆娘', '念法律系沒律師執照能做什麼工作?', '推', '瞎', '臭ㄒ滾喇', '討你媽B', '他不是律師', '膠膠的日常', '沒律師牌笑死 ☺  ☺  ☺  ☺  ☺  ☺  ☺  ☺', '不要睡辣 幹', '你是不會現在先掛漲停單嗎', '不要牽拖', '呃呃呃', '有比五樓醜？', '誇啥骨阿模謀猜洨', '坂口健太郎 龍星涼 小栗旬 表示', '哇  我以為只有八家將程度的觀眾會看谷阿莫', '我這個人很簡單', '沒有', '每年都有的新聞', '餓死鬼？', '所以知道南部薪水低到只能這樣搶免費的了！', '哪部糞片', '忘記了，還是害怕想起來？', '調查是誰在發廢文！！！', '美國是CIA吧', '好亂', '............................', 'GAY BAR? 最右邊那個是?', '幹你娘報警啦', '那門子酒店 到底有沒有去過啊', '= =', '鬍子.', '油促甲', '趕快去給一顆星', '幹', '滾啦幹', '滾', '唉', '樓下幫噓', '沒看過這麼肥的酒醋 噁', '會得愛滋嗎', '噁心', '........好噁心', '三兄弟喔?', '噁心', '拍照不抿嘴會死嗎？', '根本複製人...', '哪家 去洗個一星', 'ID錯誤', '店會不會倒？', '噁心']\n"
     ]
    }
   ],
   "source": [
    "import requests, json\n",
    "from bs4 import BeautifulSoup\n",
    "\n",
    "postive_comment=[] \n",
    "negative_comment=[] \n",
    "for page in range(25293, 25294):\n",
    "    res = requests.get('https://www.ptt.cc/bbs/Gossiping/index{}.html'.format(page), cookies={'over18': '1'})\n",
    "    soup = BeautifulSoup(res.text)\n",
    "    \n",
    "    for j in soup.select('.title a'):\n",
    "        res = requests.get('https://www.ptt.cc' + j['href'], cookies={'over18': '1'})\n",
    "        soup = BeautifulSoup(res.text)\n",
    "        \n",
    "        for tag in soup.select(\".push\"): \n",
    "            if (tag.select(\".push-tag\")[0].text==\"推 \"): \n",
    "                content = str(tag.select(\".push-content\")[0].text) \n",
    "                content = content[2:] \n",
    "                postive_comment.append(content) \n",
    "            if (tag.select(\".push-tag\")[0].text==\"噓 \"): \n",
    "                content = str(tag.select(\".push-content\")[0].text) \n",
    "                content = content[2:] \n",
    "                negative_comment.append(content) \n",
    "\n",
    "print(postive_comment) \n",
    "print(negative_comment)"
   ]
  }
 ],
 "metadata": {
  "kernelspec": {
   "display_name": "Python 3",
   "language": "python",
   "name": "python3"
  },
  "language_info": {
   "codemirror_mode": {
    "name": "ipython",
    "version": 3
   },
   "file_extension": ".py",
   "mimetype": "text/x-python",
   "name": "python",
   "nbconvert_exporter": "python",
   "pygments_lexer": "ipython3",
   "version": "3.5.2"
  }
 },
 "nbformat": 4,
 "nbformat_minor": 2
}
