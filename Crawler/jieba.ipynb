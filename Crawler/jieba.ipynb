{
 "cells": [
  {
   "cell_type": "markdown",
   "metadata": {},
   "source": [
    "## 休息一下\n",
    "\n",
    "\n",
    "## 下午場開始\n",
    "\n",
    "目錄：\n",
    "\n",
    "1. 斷詞\n",
    "    * 安裝結巴\n",
    "    * 斷詞原理簡單講\n",
    "    * 下載字典\n",
    "2. 貝氏分類器\n",
    "    * 原理\n",
    "    * 卡方\n",
    "    * 情緒字典\n",
    "3. 實作\n"
   ]
  },
  {
   "cell_type": "markdown",
   "metadata": {},
   "source": [
    "### 安裝結巴\n",
    "\n",
    "> pip install jieba\n",
    "\n"
   ]
  },
  {
   "cell_type": "markdown",
   "metadata": {},
   "source": [
    "### 斷詞原理簡單講\n",
    "\n",
    "首先，知道詞跟詞出現在上下文的機率  \n",
    "透過viterbi等演算法實現HMM模型  \n",
    "找出機率最高的斷詞組合  \n",
    "\n",
    "![img](jieba_procedure.png)\n",
    "\n",
    "![img](https://upload.wikimedia.org/wikipedia/commons/7/73/Viterbi_animated_demo.gif)\n",
    "\n",
    "斷詞，需要知道每個字：\n",
    "1. S(獨立成詞)、B（詞的開頭）、M（中間）、E（結尾）四種詞的狀態的機率\n",
    "\n",
    "如此就能算出機率最大的斷詞組合\n",
    "\n",
    "![img](viterbi.png)\n",
    "圖片引用自 [中文斷詞：斷句不要悲劇](http://s.itho.me/techtalk/2017/%E4%B8%AD%E6%96%87%E6%96%B7%E8%A9%9E%EF%BC%9A%E6%96%B7%E5%8F%A5%E4%B8%8D%E8%A6%81%E6%82%B2%E5%8A%87.pdf)\n",
    "\n",
    "### 以下用WIKI百科上的viterbi做示範（參考即可）\n",
    "\n",
    "[wiki -viterbi](https://zh.wikipedia.org/wiki/%E7%BB%B4%E7%89%B9%E6%AF%94%E7%AE%97%E6%B3%95)\n",
    "\n",
    "使用viterbi時  \n",
    "需要先知道上一個狀態變化到下一個狀態的機率  \n",
    "以及每個狀態的發生機率是多少  \n",
    "wiki是以醫生看病當例子"
   ]
  },
  {
   "cell_type": "code",
   "execution_count": 3,
   "metadata": {
    "collapsed": true
   },
   "outputs": [],
   "source": [
    "states = ('Healthy', 'Fever')\n",
    " \n",
    "observations = ('normal', 'cold', 'dizzy')\n",
    " \n",
    "start_probability = {'Healthy': 0.6, 'Fever': 0.4}\n",
    " \n",
    "transition_probability = {\n",
    "   'Healthy' : {'Healthy': 0.7, 'Fever': 0.3},\n",
    "   'Fever' : {'Healthy': 0.4, 'Fever': 0.6},\n",
    "   }\n",
    " \n",
    "emission_probability = {\n",
    "   'Healthy' : {'normal': 0.5, 'cold': 0.4, 'dizzy': 0.1},\n",
    "   'Fever' : {'normal': 0.1, 'cold': 0.3, 'dizzy': 0.6},\n",
    "   }"
   ]
  },
  {
   "cell_type": "code",
   "execution_count": 4,
   "metadata": {},
   "outputs": [
    {
     "name": "stdout",
     "output_type": "stream",
     "text": [
      "    \n",
      "       0       1       2\n",
      "Fever: 0.04000 0.02700 0.01512 \n",
      "Healt: 0.30000 0.08400 0.00588 \n",
      "(0.01512, ['Healthy', 'Healthy', 'Fever'])\n"
     ]
    }
   ],
   "source": [
    "# Helps visualize the steps of Viterbi.\n",
    "def print_dptable(V):\n",
    "    print(\"    \")\n",
    "    for i in range(len(V)):\n",
    "        print(\"%8d\" % i, end='')\n",
    "    print()\n",
    "\n",
    "    for y in V[0].keys():\n",
    "        print(\"%.5s: \" % y, end=\"\")\n",
    "        for t in range(len(V)):\n",
    "            print(\"%.7s\" % (\"%f\" % V[t][y]), end=\" \")\n",
    "        print()\n",
    "\n",
    "def viterbi(obs, states, start_p, trans_p, emit_p):\n",
    "    Pro = [{}]\n",
    "    path = {}\n",
    "\n",
    "    for s in states:\n",
    "        Pro[0][s] = start_p[s] * emit_p[s][obs[0]]\n",
    "        path[s] = [s]\n",
    "\n",
    "    for index in range(1, len(obs)):\n",
    "        Pro.append({})\n",
    "        newPath = {}\n",
    "        for newstate in states:\n",
    "            prob, state = max([ (Pro[index-1][oldState] * trans_p[oldState][newstate] * emit_p[newstate][obs[index]], oldState) for oldState in states])\n",
    "\n",
    "            Pro[index][newstate] = prob\n",
    "            newPath[newstate] = path[state] + [newstate]\n",
    "        path = newPath\n",
    "\n",
    "    print_dptable(Pro)\n",
    "    prob, state = max([(value, key) for key, value in Pro[-1].items()])\n",
    "    return prob, path[state]\n",
    "\n",
    "def example():\n",
    "    return viterbi(observations,\n",
    "                   states,\n",
    "                   start_probability,\n",
    "                   transition_probability,\n",
    "                   emission_probability)\n",
    "print(example())"
   ]
  },
  {
   "cell_type": "markdown",
   "metadata": {},
   "source": [
    "### 斷詞示範"
   ]
  },
  {
   "cell_type": "code",
   "execution_count": 7,
   "metadata": {},
   "outputs": [
    {
     "name": "stderr",
     "output_type": "stream",
     "text": [
      "Building prefix dict from the default dictionary ...\n",
      "Dumping model to file cache C:\\Users\\udic\\AppData\\Local\\Temp\\jieba.cache\n",
      "Loading model cost 3.743 seconds.\n",
      "Prefix dict has been built succesfully.\n"
     ]
    },
    {
     "name": "stdout",
     "output_type": "stream",
     "text": [
      "['吉林市', '長', '春藥店']\n"
     ]
    }
   ],
   "source": [
    "import jieba, os\n",
    "print(jieba.lcut('吉林市長春藥店'))\n"
   ]
  },
  {
   "cell_type": "markdown",
   "metadata": {},
   "source": [
    "### 下載字典 \n",
    "\n",
    "答案不是 ~~春藥店~~  \n",
    "是**長春** **藥店**  \n",
    "但是蒐集到的單字不夠多  \n",
    "導致演算法覺得這種組合的機率很小  \n",
    "\n",
    "要改善就需要額外的字典"
   ]
  },
  {
   "cell_type": "code",
   "execution_count": 8,
   "metadata": {},
   "outputs": [
    {
     "name": "stdout",
     "output_type": "stream",
     "text": [
      "['吉林市', '長春', '藥店']\n"
     ]
    }
   ],
   "source": [
    "jieba.load_userdict(os.path.join('', 'dictionary', 'dict.txt.big.txt'))\n",
    "jieba.load_userdict(os.path.join('', \"dictionary\", \"NameDict_Ch_v2\"))\n",
    "print(jieba.lcut('吉林市長春藥店'))"
   ]
  }
 ],
 "metadata": {
  "kernelspec": {
   "display_name": "Python 3",
   "language": "python",
   "name": "python3"
  },
  "language_info": {
   "codemirror_mode": {
    "name": "ipython",
    "version": 3
   },
   "file_extension": ".py",
   "mimetype": "text/x-python",
   "name": "python",
   "nbconvert_exporter": "python",
   "pygments_lexer": "ipython3",
   "version": "3.5.2"
  }
 },
 "nbformat": 4,
 "nbformat_minor": 2
}
