{
 "cells": [
  {
   "cell_type": "markdown",
   "metadata": {},
   "source": [
    "# 早上場\n",
    "\n",
    "流程：\n",
    "\n",
    "1. 安裝套件\n",
    "2. 爬蟲概念\n",
    "3. 實戰：\n",
    "    1. Gomaji範例\n",
    "    2. PTT航海王版範例\n",
    "    3. Cookie觀念講解\n",
    "    4. PTT 八卦版範例\n",
    "\n",
    "## 下載今天教材\n",
    "\n",
    "<https://github.com/UDICatNCHU/PublicTutorial/archive/master.zip>\n",
    "\n",
    "## 安裝套件\n",
    "\n",
    "請在bluemix的notebook執行下列指令  \n",
    "> **`!pip install html5lib==1.0b8 nltk jieba sklearn numpy scipy requests bs4 simplejson pyprind matplotlib `**  \n",
    "> **`!pip install --upgrade html5lib==1.0b8`**  \n",
    "\n",
    "若出現錯誤請按一下 **`restart kernel`**\n",
    "\n",
    "若是使用cmd，請輸入 `pip install -r requirements.txt`  \n",
    "requirements.txt裏面包含所有今天會用到的函式庫  \n",
    "透過指令一鍵安裝  \n",
    "\n",
    "函式庫功能：\n",
    "* requests：是可以讓python上網，與其他網站進行get、post等協定的套件\n",
    "* simplejson：讓python能處理json的套件\n",
    "* bs4：能夠解析網頁html的套件\n",
    "* pyprind：出現進度調特效\n",
    "* nltk, sklearn, numpy, scipy：文字分類器、科學計算、機器學習\n",
    "\n",
    "\n",
    "\n"
   ]
  },
  {
   "cell_type": "markdown",
   "metadata": {},
   "source": [
    "# 最基本爬蟲架構\n",
    "## Http Get"
   ]
  },
  {
   "cell_type": "code",
   "execution_count": null,
   "metadata": {
    "collapsed": true
   },
   "outputs": [],
   "source": [
    "import requests\n",
    "re = requests.get('http://www.gomaji.com/index.php?city=Taichung&tag_id=28') # 裏面可以放任意的網址\n",
    "print(re.text)"
   ]
  },
  {
   "cell_type": "markdown",
   "metadata": {},
   "source": [
    "## 網頁內容Parser : BeautifulSoup\n",
    "https://www.crummy.com/software/BeautifulSoup/bs4/doc/"
   ]
  },
  {
   "cell_type": "markdown",
   "metadata": {},
   "source": [
    "## 範例：把餐廳跟餐點爬下來\n",
    "範例網站：[gomaji](http://www.gomaji.com/index.php?city=Taichung&tag_id=28)\n",
    "\n",
    "把要抓的網頁內容丟進beautifulSoup建構式裡面  \n",
    "res.text就是顯示網頁的內容  "
   ]
  },
  {
   "cell_type": "code",
   "execution_count": null,
   "metadata": {
    "collapsed": true
   },
   "outputs": [],
   "source": [
    "import requests\n",
    "from bs4 import BeautifulSoup\n",
    "res = requests.get('http://www.gomaji.com/index.php?city=Taichung&tag_id=28')\n",
    "soup = BeautifulSoup(res.text,\"lxml\")\n",
    "\n",
    "print(soup.prettify())\n",
    "#print(soup.get_text())"
   ]
  },
  {
   "cell_type": "code",
   "execution_count": null,
   "metadata": {
    "collapsed": true
   },
   "outputs": [],
   "source": [
    "import requests\n",
    "from bs4 import BeautifulSoup\n",
    "res = requests.get('http://www.gomaji.com/index.php?city=Taichung&tag_id=28')\n",
    "soup = BeautifulSoup(res.text,\"lxml\")\n",
    "soup.select(\"a\")"
   ]
  },
  {
   "cell_type": "code",
   "execution_count": null,
   "metadata": {
    "collapsed": true
   },
   "outputs": [],
   "source": [
    "res = requests.get('http://www.gomaji.com/index.php?city=Taichung&tag_id=28')\n",
    "soup = BeautifulSoup(res.text,\"lxml\")\n",
    "soup.select(\"title\") # 搜尋名為title的tag\n",
    "soup.select(\".btn\") # 搜尋class attribute為btn的tag"
   ]
  },
  {
   "cell_type": "code",
   "execution_count": null,
   "metadata": {
    "collapsed": true
   },
   "outputs": [],
   "source": [
    "for i in soup.select(\"a\"):\n",
    "    print(i.string)\n",
    "    print(i.attrs)\n",
    "    print(i[\"href\"])"
   ]
  },
  {
   "cell_type": "code",
   "execution_count": null,
   "metadata": {
    "collapsed": true
   },
   "outputs": [],
   "source": [
    "import requests\n",
    "from bs4 import BeautifulSoup\n",
    "res = requests.get('http://www.gomaji.com/index.php?city=Taichung&tag_id=28')\n",
    "soup = BeautifulSoup(res.text,\"lxml\")\n",
    "\n",
    "# select用法\n",
    "# 指定css選取器的語法\n",
    "# select 回傳list 也就是array\n",
    "# soup.select('ul or h1 or img or a ...各式各樣的css選取器的語法'):\n",
    "soup.select('.proname_3') "
   ]
  },
  {
   "cell_type": "markdown",
   "metadata": {},
   "source": [
    "網頁裏面有太多元件  \n",
    "需要一種語法讓我們可以定位到那些元件  \n",
    "對那些東西進行操作  \n",
    "[參考網址](http://www.j4.com.tw/web-design/css-%E9%81%B8%E6%93%87%E5%99%A8%E3%80%81%E9%81%B8%E5%8F%96%E5%99%A8%EF%BC%88selector%EF%BC%89%E7%A8%AE%E9%A1%9E%E7%B0%A1%E4%BB%8B/)\n",
    " \n",
    "直接使用工具來輔助我們\n",
    "![img](http://i.imgur.com/VnjnW7S.jpg)\n",
    "[BeautifulSoup](http://www.jianshu.com/p/abcad274a9c7)\n",
    "\n",
    "\n",
    "## 安裝Chrome插件 infolite  \n",
    "\n",
    "[下載網址](https://chrome.google.com/webstore/detail/infolite/ipjbadabbpedegielkhgpiekdlmfpgal)  \n",
    "\n",
    "[使用說明](http://tech-marsw.logdown.com/blog/2016/01/10/crawler-tips-mining-chrome)\n",
    "\n",
    "示範 滑鼠移過去就會顯示CSS選取器  \n",
    "直接將css選取器的值  \n",
    "複製貼上到**soup.select()**當中\n",
    "![示範](http://user-image.logdown.io/user/411/blog/411/post/419937/ydTt52rqQiOtBhtpqUYX_%E8%9E%A2%E5%B9%95%E5%BF%AB%E7%85%A7%202016-01-10%20%E4%B8%8B%E5%8D%8812.53.48.png)\n",
    "\n",
    "範例：顯示Gomaji商品名稱"
   ]
  },
  {
   "cell_type": "code",
   "execution_count": null,
   "metadata": {
    "collapsed": true
   },
   "outputs": [],
   "source": [
    "import requests\n",
    "from bs4 import BeautifulSoup\n",
    "def parsePage(url):\n",
    "    res = requests.get(url)\n",
    "    soup = BeautifulSoup(res.text)\n",
    "\n",
    "    for i in soup.select('.proname_3'):\n",
    "        print(i.text + '\\n')\n",
    "        \n",
    "parsePage('http://www.gomaji.com/index.php?city=Taichung&tag_id=28')"
   ]
  },
  {
   "cell_type": "markdown",
   "metadata": {},
   "source": [
    "把爬蟲的結果存成json  \n",
    "需要用到json這個函式庫"
   ]
  },
  {
   "cell_type": "code",
   "execution_count": null,
   "metadata": {
    "collapsed": true
   },
   "outputs": [],
   "source": [
    "import requests, json\n",
    "from bs4 import BeautifulSoup\n",
    "\n",
    "res = requests.get('http://www.gomaji.com/index.php?city=Taichung&tag_id=28')\n",
    "soup = BeautifulSoup(res.text)\n",
    "\n",
    "tmp = []\n",
    "for i in soup.select('.proname_3'):\n",
    "    tmp.append({'product':i.text})\n",
    "\n",
    "json.dump(tmp, open('demo.json', 'w'))\n",
    "\n",
    "# 顯示一下抓下來的json檔\n",
    "with open('demo.json', 'r', encoding='UTF-8') as f:\n",
    "    print(json.load(f))"
   ]
  },
  {
   "cell_type": "markdown",
   "metadata": {},
   "source": [
    "## PTT爬蟲實戰\n",
    "\n",
    "爬航海王版從1300~1304頁  \n",
    "結合進度條，顯示完成進度 "
   ]
  },
  {
   "cell_type": "code",
   "execution_count": null,
   "metadata": {
    "collapsed": true
   },
   "outputs": [],
   "source": [
    "import requests, json, pyprind\n",
    "from bs4 import BeautifulSoup\n",
    "\n",
    "for i in pyprind.prog_bar(range(1290, 1305-1), track_time=False):\n",
    "    res = requests.get('https://www.ptt.cc/bbs/ONE_PIECE/index{}.html'.format(i))\n",
    "    soup = BeautifulSoup(res.text)\n",
    "    #print(soup.select('.title a'))\n",
    "    "
   ]
  },
  {
   "cell_type": "markdown",
   "metadata": {},
   "source": [
    "儲存成json格式："
   ]
  },
  {
   "cell_type": "code",
   "execution_count": null,
   "metadata": {
    "collapsed": true
   },
   "outputs": [],
   "source": [
    "import requests, json, pyprind\n",
    "from bs4 import BeautifulSoup\n",
    "\n",
    "data = []\n",
    "for i in pyprind.prog_bar(range(1290, 1305-1), track_time=False):\n",
    "    res = requests.get('https://www.ptt.cc/bbs/ONE_PIECE/index{}.html'.format(i))\n",
    "    soup = BeautifulSoup(res.text)\n",
    "    \n",
    "    for j in soup.select('.title a'):\n",
    "        data.append({'title':j.text, 'url':'https://www.ptt.cc' + j['href']})\n",
    "\n",
    "# print(data)"
   ]
  },
  {
   "cell_type": "markdown",
   "metadata": {
    "collapsed": true
   },
   "source": [
    "# 今天的目標：PTT八卦版的情緒分類器\n",
    "\n",
    "所以當然要用爬蟲去爬八卦版  \n",
    "航海王版跟八卦版有什麼不一樣嘛?"
   ]
  },
  {
   "cell_type": "code",
   "execution_count": null,
   "metadata": {
    "collapsed": true
   },
   "outputs": [],
   "source": [
    "res = requests.get('https://www.ptt.cc/bbs/Gossiping/index.html')\n",
    "print(res.text)"
   ]
  },
  {
   "cell_type": "markdown",
   "metadata": {},
   "source": [
    "![img](http://pic.pimg.tw/bshadow/1429897640-4241887945_n.png?v=1429897644)\n",
    "\n",
    "要跟電腦說我們已經滿十八歲了  \n",
    "請在request上面加個cookie  \n",
    "\n",
    "> 程式碼這樣寫即可\n",
    "> res = requests.get('https://www.ptt.cc/bbs/Gossiping/index.html', cookies={'over18': '1'})"
   ]
  },
  {
   "cell_type": "code",
   "execution_count": null,
   "metadata": {
    "collapsed": true,
    "scrolled": true
   },
   "outputs": [],
   "source": [
    "import requests\n",
    "from bs4 import BeautifulSoup\n",
    "res = requests.get('https://www.ptt.cc/bbs/Gossiping/index.html', cookies={'over18': '1'})\n",
    "soup = BeautifulSoup(res.text)\n",
    "data = []\n",
    "for j in soup.select('.title a'):\n",
    "    \n",
    "    data.append({'title':j.text, 'url':'https://www.ptt.cc' + j['href']})\n",
    "\n",
    "print(data)"
   ]
  },
  {
   "cell_type": "markdown",
   "metadata": {},
   "source": [
    "## 實作時間\n",
    "\n",
    "請將八卦版最新的兩頁，整理成下方要求的格式  \n",
    "注意 兩頁就好，爬太多大家網路會爆炸!!!\n",
    "注意 兩頁就好，爬太多大家網路會爆炸!!!\n",
    "注意 兩頁就好，爬太多大家網路會爆炸!!!\n",
    "\n",
    "1. 簡單版: 示範網址 <https://www.ptt.cc/bbs/Gossiping/M.1504258645.A.AF3.html>\n",
    "\n",
    "    ```\n",
    "    [\n",
    "      {\n",
    "        \"text\": \"作者bond30422 (Bond)看板Gossiping標題[爆卦] 詹詠然打完世大運有可能的班機時間Fri Sep  1 17:37:23 2017\n",
    "        先講結論\n",
    "        8/29 17:00 混雙冠軍賽\n",
    "        8/29 19:10 長榮班機直飛 打混雙冠軍不可能搭上 買這班就是預謀不打\n",
    "        8/30 19:10 長榮班機直飛 美網會遲到 買這班辛吉絲森77\n",
    "        8/29 23:35 華航班機轉機 免強可以搭上 免強來得及到美網 但買這班長榮會森77\n",
    "        8/30 23:00 美網雙打 (美國時間8/30 11:00)\n",
    "        解釋一下\n",
    "        8/29 17:00 混雙冠軍賽\n",
    "        8/30 23:00 美網雙打 (美國時間8/30 11:00)\n",
    "        長榮8/29晚上飛紐約是19:10\n",
    "        最晚18:30要check in 打再快也不可能搭上\n",
    "        如果先買這班機票就表示從頭到尾都不想打混雙冠軍賽\n",
    "        下一班長榮飛紐約是8/30 19:10\n",
    "        美網雙打預計是在8/30 23:00開始(紐約時間8/30 11:00)\n",
    "        只有這班 唯一這班趕得上 非常趕 可能來不及練球 時差問題 隊友會樵死你\n",
    "        而且詹詠然是長榮代言人 去買華航?\n",
    "        網址: https://www.ptt.cc/bbs/Gossiping/M.1504258645.A.AF3.html\n",
    "        \",\n",
    "        \"url\": \"https://www.ptt.cc/bbs/Gossiping/M.1504258645.A.AF3.html\",\n",
    "        \"title\": \"[爆卦] 詹詠然打完世大運有可能的班機\"\n",
    "      }\n",
    "    ]\n",
    "    ```\n",
    "\n",
    "2. 下午需要的版本  目標格式 \n",
    "    * 示範網址 <https://www.ptt.cc/bbs/Gossiping/index25293.html>\n",
    "    \n",
    "    請將下面留言的推和噓都各整理成這樣  \n",
    "    並且輸出成兩份json檔\n",
    "\n",
    "```\n",
    "['你不是已經是板主了嗎？', '幹', '為什麼都是這些老人一直想回鍋啊zzzzzzzzzzz', '怎麼選就這幾個再輪' ... ]\n",
    "```"
   ]
  },
  {
   "cell_type": "markdown",
   "metadata": {},
   "source": [
    "# 進一步學習：\n",
    "\n",
    "## 1. Post\n",
    "像提交的訊息放在信封裏面，除非偷看封包不然沒辦法知道你傳了什麼資訊  \n",
    "有資安疑慮，例如登入系統等，請使用 **post**\n",
    "\n",
    "![img](http://img.tulaoshi.com/image/20160217/00c80903e1d63b753d3f84bd0c1538a8.jpg)\n",
    "下列範例: 爬取 [中興學校的課程查詢網](https://onepiece.nchu.edu.tw/cofsys/plsql/crseqry_home) 資工系的課程\n",
    "\n",
    "\n",
    "## requests.post 裏面的data怎知要打什麼?\n",
    "\n",
    "先按開F12再執行中興的課程查詢  \n",
    "然後按到Network的地方  \n",
    "下面選單選項選擇第一個：crseqry_home  \n",
    "拉到最下面看到的Form Data  \n",
    "把Form Data的資料轉換成dict的型態  \n",
    "此資料即是requests.post裏面的data\n",
    "> {\n",
    ">   'v_career' : 'U'\n",
    ">    ...\n",
    "> }\n"
   ]
  },
  {
   "cell_type": "code",
   "execution_count": null,
   "metadata": {
    "collapsed": true
   },
   "outputs": [],
   "source": [
    "import requests\n",
    "re = requests.post(\"https://onepiece.nchu.edu.tw/cofsys/plsql/crseqry_home\",\n",
    "data={'v_career':'U','v_dept':'U56','v_level':'2'})\n",
    "# data這個參數裏面放的是我們提交表單的參數\n",
    "# U代表是大學部\n",
    "# U56是資工系代號\n",
    "# 2代表是二年級\n",
    "\n",
    "print(re.text) \n",
    "# 這樣就可以看到該網頁的html"
   ]
  },
  {
   "cell_type": "markdown",
   "metadata": {},
   "source": [
    "## 如何下載圖片？\n",
    "\n",
    "\n",
    "下載圖片範例："
   ]
  },
  {
   "cell_type": "code",
   "execution_count": null,
   "metadata": {
    "collapsed": true
   },
   "outputs": [],
   "source": [
    "import shutil\n",
    "\n",
    "# stream=True，用串流的方式下載\n",
    "img = requests.get('http://www.pixelbeat.org/talks/linux_and_python/tux-python.png', stream=True)\n",
    "\n",
    "# with是python開關檔案的語法\n",
    "# 因為要存圖片所以要用2進制的方式\n",
    "# img是request的物件，raw會用2進制顯示結果\n",
    "with open('xxx.jpg', 'wb') as f:\n",
    "    shutil.copyfileobj(img.raw, f)\n",
    "\n",
    "print(img.raw)\n",
    "\n",
    "# 這2行是jupyter的指令，所以才能顯示圖片！！！ 你在cmd打是沒用的\n",
    "from IPython.display import Image \n",
    "Image(filename='xxx.jpg')"
   ]
  },
  {
   "cell_type": "code",
   "execution_count": null,
   "metadata": {
    "collapsed": true
   },
   "outputs": [],
   "source": [
    "import requests, shutil\n",
    "\n",
    "def savePict(url, name):\n",
    "    img = requests.get(url,stream=True)\n",
    "    with open(name+'.jpg', 'wb') as f:\n",
    "        shutil.copyfileobj(img.raw, f)\n",
    "savePict(\"http://i2.disp.cc/imgur7/146Qf.jpg\", \"檔名\")\n",
    "\n",
    "from IPython.display import Image \n",
    "Image(filename='檔名.jpg')"
   ]
  },
  {
   "cell_type": "code",
   "execution_count": null,
   "metadata": {
    "collapsed": true
   },
   "outputs": [],
   "source": []
  }
 ],
 "metadata": {
  "kernelspec": {
   "display_name": "Python 3",
   "language": "python",
   "name": "python3"
  },
  "language_info": {
   "codemirror_mode": {
    "name": "ipython",
    "version": 3
   },
   "file_extension": ".py",
   "mimetype": "text/x-python",
   "name": "python",
   "nbconvert_exporter": "python",
   "pygments_lexer": "ipython3",
   "version": "3.5.2"
  }
 },
 "nbformat": 4,
 "nbformat_minor": 2
}
